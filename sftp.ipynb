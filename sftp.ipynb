{
 "cells": [
  {
   "cell_type": "code",
   "execution_count": 1,
   "id": "1414f6fd-1f71-467a-8462-c1edcf7440df",
   "metadata": {
    "tags": []
   },
   "outputs": [],
   "source": [
    "import datetime\n",
    "import paramiko\n",
    "import numpy as np\n",
    "import os"
   ]
  },
  {
   "cell_type": "code",
   "execution_count": 2,
   "id": "18a00b02-ab7a-47ee-947a-82e2f15265f2",
   "metadata": {
    "tags": []
   },
   "outputs": [
    {
     "name": "stdout",
     "output_type": "stream",
     "text": [
      "connection established successfully\n"
     ]
    }
   ],
   "source": [
    "# create ssh client \n",
    "ssh_client = paramiko.SSHClient()\n",
    "\n",
    "# remote server credentials\n",
    "host = \"files.clarksonmsda.org\"\n",
    "username = \"kanthar@clarkson.edu\"\n",
    "password = \"Clarkson.13676\"\n",
    "port = 2022\n",
    "\n",
    "ssh_client.set_missing_host_key_policy(paramiko.AutoAddPolicy())\n",
    "ssh_client.connect(hostname=host,port=port,username=username,password=password)\n",
    "\n",
    "print('connection established successfully')"
   ]
  },
  {
   "cell_type": "code",
   "execution_count": 3,
   "id": "2e848851-977a-41a6-bc0f-e50a30aad384",
   "metadata": {
    "tags": []
   },
   "outputs": [],
   "source": [
    "ftp = ssh_client.open_sftp()"
   ]
  },
  {
   "cell_type": "code",
   "execution_count": 56,
   "id": "edd81525-1f3c-463e-8f93-5f98b19f47a3",
   "metadata": {
    "tags": []
   },
   "outputs": [
    {
     "data": {
      "text/plain": [
       "['2024-02-17_l',\n",
       " '2023-10-14',\n",
       " '2024-02-17_h',\n",
       " '2024-02-16_h',\n",
       " '2023-12-15_l',\n",
       " '2023-10-30_h',\n",
       " '2024-02-19_l',\n",
       " '2024-02-05_l',\n",
       " '2024-01-29_l',\n",
       " '2023-12-14_h']"
      ]
     },
     "execution_count": 56,
     "metadata": {},
     "output_type": "execute_result"
    }
   ],
   "source": [
    "folders_path='srv/sftpgo/data/users/kanthar@clarkson.edu/traffic/img/full'\n",
    "date_folders = ftp.listdir(folders_path)\n",
    "date_folders[0:10]"
   ]
  },
  {
   "cell_type": "code",
   "execution_count": 29,
   "id": "e2ad783f-4d4c-4404-8c61-7ec5ca85a1bd",
   "metadata": {
    "tags": []
   },
   "outputs": [],
   "source": [
    "# sorted_datefolders=sorted([datetime.datetime.strptime(f.replace('_h','').replace('_l',''),'%Y-%m-%d').strftime(\"%Y-%m-%d\") for f in date_folders ])"
   ]
  },
  {
   "cell_type": "code",
   "execution_count": 31,
   "id": "c0c1206f-f8d8-4b4d-a4e8-812daa2b067c",
   "metadata": {
    "tags": []
   },
   "outputs": [
    {
     "data": {
      "text/plain": [
       "129"
      ]
     },
     "execution_count": 31,
     "metadata": {},
     "output_type": "execute_result"
    }
   ],
   "source": [
    "# len(sorted_datefolders)"
   ]
  },
  {
   "cell_type": "code",
   "execution_count": 55,
   "id": "6dac24ca-dc78-4a73-8009-8ca628b438aa",
   "metadata": {
    "tags": []
   },
   "outputs": [],
   "source": [
    "# picks random images from each day folder based on the number you give. \n",
    "\n",
    "# images_per_day = how many images from each day\n",
    "# total_images = total number of images \n",
    "\n",
    "images_per_day=10\n",
    "total_images=20\n",
    "n=0\n",
    "for f in date_folders:\n",
    "        path=os.path.join(folders_path,str(f))\n",
    "        images_list=ftp.listdir(path)\n",
    "        l=len(images_list)\n",
    "        for idx in np.random.randint(1,l,images_per_day):\n",
    "            remote_file_path=os.path.join(path,images_list[idx])\n",
    "            files = ftp.get(remote_file_path,os.path.join('random_images',images_list[idx]))\n",
    "            n+=1\n",
    "            if n > total_images:\n",
    "                break\n",
    "                \n",
    "        if n>total_images:\n",
    "            break\n",
    "\n",
    "ssh_client.close()"
   ]
  },
  {
   "cell_type": "code",
   "execution_count": 44,
   "id": "208b6b82-4ea1-4b15-be12-eaea55ac62ab",
   "metadata": {
    "tags": []
   },
   "outputs": [
    {
     "data": {
      "text/plain": [
       "[53, 36, 14, 29, 52, 87, 88, 18, 46, 4]"
      ]
     },
     "execution_count": 44,
     "metadata": {},
     "output_type": "execute_result"
    }
   ],
   "source": []
  },
  {
   "cell_type": "code",
   "execution_count": null,
   "id": "4cb53f52-5b10-47b4-912b-598cb78fc8fc",
   "metadata": {},
   "outputs": [],
   "source": [
    "    \n"
   ]
  }
 ],
 "metadata": {
  "kernelspec": {
   "display_name": "Python 3 (ipykernel)",
   "language": "python",
   "name": "python3"
  },
  "language_info": {
   "codemirror_mode": {
    "name": "ipython",
    "version": 3
   },
   "file_extension": ".py",
   "mimetype": "text/x-python",
   "name": "python",
   "nbconvert_exporter": "python",
   "pygments_lexer": "ipython3",
   "version": "3.11.4"
  }
 },
 "nbformat": 4,
 "nbformat_minor": 5
}
